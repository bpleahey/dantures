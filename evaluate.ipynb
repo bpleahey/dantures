{
 "cells": [
  {
   "cell_type": "code",
   "execution_count": null,
   "id": "f01dcdca",
   "metadata": {
    "vscode": {
     "languageId": "plaintext"
    }
   },
   "outputs": [],
   "source": [
    "import os\n",
    "\n",
    "# Set your repo URL and folder name to your fork\n",
    "repo_url = \"https://github.com/bpleahey/thesis.git\"\n",
    "repo_dir = \"thesis\"\n",
    "\n",
    "# Check if already inside the repo\n",
    "cwd = os.getcwd()\n",
    "if os.path.basename(cwd) == repo_dir:\n",
    "    print(f\"[INFO] Already inside '{repo_dir}' folder. Skipping clone.\")\n",
    "else:\n",
    "    # Clone only if not already in it\n",
    "    if not os.path.exists(repo_dir):\n",
    "        !git clone {repo_url}\n",
    "    else:\n",
    "        print(f\"[INFO] '{repo_dir}' already exists. Skipping clone.\")\n",
    "\n",
    "    # Move into the repo\n",
    "    %cd {repo_dir}\n",
    "\n",
    "# Install requirements\n",
    "!pip install -r requirements.txt"
   ]
  },
  {
   "cell_type": "code",
   "execution_count": null,
   "id": "0a97c707",
   "metadata": {
    "vscode": {
     "languageId": "plaintext"
    }
   },
   "outputs": [],
   "source": [
    "# Make sure you've returned to the root directory\n",
    "\n",
    "%ls\n",
    "\n",
    "# % cd .."
   ]
  },
  {
   "cell_type": "code",
   "execution_count": null,
   "id": "4612040a",
   "metadata": {
    "vscode": {
     "languageId": "plaintext"
    }
   },
   "outputs": [],
   "source": [
    "# IF RUNNING FROM COLAB:\n",
    "\n",
    "from google.colab import drive\n",
    "drive.mount('/content/gdrive')"
   ]
  },
  {
   "cell_type": "code",
   "execution_count": null,
   "id": "53a92fcf",
   "metadata": {
    "vscode": {
     "languageId": "plaintext"
    }
   },
   "outputs": [],
   "source": [
    "# IF RUNNING ON CLUSTER/LOCALLY:\n",
    "\n",
    "pip install gdown\n",
    "gdown 'https://drive.google.com/uc?id=1XyU6oEIZW49P0dYlzcZzAdrKcFSXcR7y'"
   ]
  },
  {
   "cell_type": "code",
   "execution_count": null,
   "id": "aad26b16",
   "metadata": {
    "vscode": {
     "languageId": "plaintext"
    }
   },
   "outputs": [],
   "source": [
    "#TODO:unzip test set"
   ]
  },
  {
   "cell_type": "code",
   "execution_count": null,
   "id": "f01cdb1c",
   "metadata": {
    "vscode": {
     "languageId": "plaintext"
    }
   },
   "outputs": [],
   "source": [
    "!python test.py --img 640 --batch 16 --data vanilla_rgb.yaml --cfg models/yolov7-tiny.yaml --device=0 --weights <path from runs/train/expx> --conf 0.1 --iou 0.65 --name rgb"
   ]
  },
  {
   "cell_type": "code",
   "execution_count": null,
   "id": "18103fef",
   "metadata": {
    "vscode": {
     "languageId": "plaintext"
    }
   },
   "outputs": [],
   "source": [
    "from IPython.display import Image\n",
    "\n",
    "#TODO: update runs path\n",
    "display(Image(\"/content/gdrive/MyDrive/yolov7/runs/train/exp4/F1_curve.png\", width=400, height=400))\n",
    "display(Image(\"/content/gdrive/MyDrive/yolov7/runs/train/exp4/PR_curve.png\", width=400, height=400))\n",
    "display(Image(\"/content/gdrive/MyDrive/yolov7/runs/train/exp4/confusion_matrix.png\", width=500, height=500))"
   ]
  },
  {
   "cell_type": "code",
   "execution_count": null,
   "id": "9dfec077",
   "metadata": {
    "vscode": {
     "languageId": "plaintext"
    }
   },
   "outputs": [],
   "source": [
    "!python detect.py --weights <path from runs/train/expx/weights/best.pt> --conf 0.1 --img-size 640 --source <path to test images>"
   ]
  },
  {
   "cell_type": "code",
   "execution_count": null,
   "id": "0e17842d",
   "metadata": {
    "vscode": {
     "languageId": "plaintext"
    }
   },
   "outputs": [],
   "source": [
    "#TODO: correct paths\n",
    "from IPython.display import Image\n",
    "display(Image(\"/content/gdrive/MyDrive/yolov7/runs/train/exp4/F1_curve.png\", width=400, height=400)) # correct path\n",
    "display(Image(\"/content/gdrive/MyDrive/yolov7/runs/train/exp4/PR_curve.png\", width=400, height=400))\n",
    "display(Image(\"/content/gdrive/MyDrive/yolov7/runs/train/exp4/confusion_matrix.png\", width=500, height=500))"
   ]
  },
  {
   "cell_type": "code",
   "execution_count": null,
   "id": "f8723c94",
   "metadata": {
    "vscode": {
     "languageId": "plaintext"
    }
   },
   "outputs": [],
   "source": [
    "#display inference on ALL test images\n",
    "\n",
    "import glob\n",
    "from IPython.display import Image, display\n",
    "\n",
    "i = 0\n",
    "limit = 10000 # max images to print\n",
    "for imageName in glob.glob('/content/gdrive/MyDrive/yolov7/runs/detect/exp2/*.jpg'):\n",
    "    #Assuming JPG\n",
    "    if i < limit:\n",
    "      display(Image(filename=imageName))\n",
    "      print(\"\\n\")\n",
    "    i = i + 1\n",
    "\n",
    "display(Image(\"/content/gdrive/MyDrive/yolov7/military_vics_test/\", width=400, height=400))\n",
    "    "
   ]
  }
 ],
 "metadata": {
  "language_info": {
   "name": "python"
  }
 },
 "nbformat": 4,
 "nbformat_minor": 5
}
